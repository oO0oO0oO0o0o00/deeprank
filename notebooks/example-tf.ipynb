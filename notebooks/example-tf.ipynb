{
 "cells": [
  {
   "cell_type": "code",
   "execution_count": 1,
   "metadata": {
    "ExecuteTime": {
     "end_time": "2020-10-17T09:27:17.529602Z",
     "start_time": "2020-10-17T09:27:08.974899Z"
    }
   },
   "outputs": [],
   "source": [
    "import numpy as np\n",
    "\n",
    "import tensorflow as tf\n",
    "from tensorflow import keras\n",
    "from tensorflow.keras.layers import Dense, Input, Flatten, Reshape\n",
    "from tensorflow.keras.utils import to_categorical\n",
    "from numpy import array as nar, ndarray as ndar\n",
    "\n",
    "# import matplotlib\n",
    "# import matplotlib.pylab as plt\n",
    "\n",
    "from sklearn.datasets import make_regression\n",
    "from sklearn.preprocessing import QuantileTransformer\n",
    "from sklearn.model_selection import train_test_split"
   ]
  },
  {
   "cell_type": "markdown",
   "metadata": {},
   "source": [
    "Define our class for Ordinal Regression"
   ]
  },
  {
   "cell_type": "code",
   "execution_count": 2,
   "metadata": {
    "ExecuteTime": {
     "end_time": "2020-10-17T09:27:22.886098Z",
     "start_time": "2020-10-17T09:27:22.872400Z"
    }
   },
   "outputs": [],
   "source": [
    "class OrdinalOutput(keras.layers.Layer):\n",
    "\n",
    "    def __init__(self, output_dim, **kwargs):\n",
    "        self.output_dim = output_dim\n",
    "        self.t0 = tf.constant(-np.inf, shape=(1, 1))\n",
    "        self.tK = tf.constant(np.inf, shape=(1, 1))\n",
    "        super(OrdinalOutput, self).__init__(**kwargs)\n",
    "\n",
    "    def build(self, input_shape):\n",
    "        assert input_shape[-1] == 1 and len(input_shape) <= 2\n",
    "        # TODO: handle input with extra dimensions and\n",
    "        # different regression axis\n",
    "        # e.g. sequence of time-major or not\n",
    "        self.thresholds = self.add_weight(\n",
    "            name='thresholds',\n",
    "            shape=(1, self.output_dim - 1),\n",
    "            initializer=self.sorted_initializer('glorot_uniform'),\n",
    "            trainable=True)\n",
    "        # 1. Overwritting `self.thresholds` attribute causes\n",
    "        # TF not to maintain the added weight.\n",
    "        # 2. Calling tf.concat here is eager by default\n",
    "        # and causes the result to be treated as constant.\n",
    "        # (found by looking at Tensor Board graph)\n",
    "        # Moved to `call`.\n",
    "        super(OrdinalOutput, self).build(input_shape)\n",
    "\n",
    "    def call(self, x):\n",
    "        upper = tf.concat([self.thresholds, self.tK],  axis=-1)\n",
    "        lower = tf.concat([self.t0, self.thresholds],  axis=-1)\n",
    "        output = tf.sigmoid(upper - x) - tf.sigmoid(lower - x)\n",
    "        return output\n",
    "\n",
    "    def compute_output_shape(self, input_shape):\n",
    "        return (input_shape[0], self.output_dim)\n",
    "\n",
    "    def sorted_initializer(self, initializer):\n",
    "        # Returns a function that returns a sorted\n",
    "        # initialization based on an initializer string\n",
    "        initializer = keras.initializers.get(initializer)\n",
    "\n",
    "        def sorter(shape, dtype=None):\n",
    "            # Returns a sorted initialization\n",
    "            return tf.sort(initializer(shape, dtype))\n",
    "        return sorter"
   ]
  },
  {
   "cell_type": "markdown",
   "metadata": {},
   "source": [
    "Generate example data"
   ]
  },
  {
   "cell_type": "code",
   "execution_count": 4,
   "metadata": {
    "ExecuteTime": {
     "end_time": "2020-10-17T09:27:27.333954Z",
     "start_time": "2020-10-17T09:27:27.326871Z"
    }
   },
   "outputs": [
    {
     "data": {
      "text/plain": [
       "'1.8382379994527567,243.15147715095588'"
      ]
     },
     "execution_count": 4,
     "metadata": {},
     "output_type": "execute_result"
    }
   ],
   "source": [
    "x, y = make_regression(\n",
    "    n_samples=10000,\n",
    "    n_features=20,\n",
    "    n_informative=15)\n",
    "f\"{y.mean()},{y.std()}\""
   ]
  },
  {
   "cell_type": "code",
   "execution_count": 5,
   "metadata": {
    "ExecuteTime": {
     "end_time": "2020-10-17T09:27:31.695995Z",
     "start_time": "2020-10-17T09:27:31.679993Z"
    }
   },
   "outputs": [
    {
     "data": {
      "text/plain": [
       "array([0.25  , 0.2499, 0.2503, 0.2497], dtype=float32)"
      ]
     },
     "execution_count": 5,
     "metadata": {},
     "output_type": "execute_result"
    }
   ],
   "source": [
    "qt = QuantileTransformer()\n",
    "t = qt.fit_transform(y.reshape(-1, 1))[:,0]\n",
    "t = np.floor(t * 4) # Encode to 4 uniformly distributed ranks\n",
    "# few data were put into 5th category\n",
    "# discard since this is only a demo\n",
    "t = to_categorical(t)[:,:4]\n",
    "t.mean(axis=0)\n",
    "x_train, x_val, y_train, y_val = train_test_split(x, t)"
   ]
  },
  {
   "cell_type": "markdown",
   "metadata": {},
   "source": [
    "Build the model"
   ]
  },
  {
   "cell_type": "code",
   "execution_count": 7,
   "metadata": {
    "ExecuteTime": {
     "start_time": "2020-10-17T09:27:35.399Z"
    }
   },
   "outputs": [],
   "source": [
    "model = keras.Sequential()\n",
    "model.add(Dense(units=32, activation='relu', input_dim=20))\n",
    "model.add(Dense(units=32, activation='relu'))\n",
    "model.add(Dense(units=1, activation='linear'))\n",
    "model.add(OrdinalOutput(output_dim=4))"
   ]
  },
  {
   "cell_type": "markdown",
   "metadata": {},
   "source": [
    "Examine the ordinal thresholds"
   ]
  },
  {
   "cell_type": "code",
   "execution_count": 8,
   "metadata": {
    "ExecuteTime": {
     "end_time": "2020-10-17T09:20:18.407777Z",
     "start_time": "2020-10-17T09:20:18.401407Z"
    }
   },
   "outputs": [
    {
     "data": {
      "text/plain": [
       "[array([[-0.34376454, -0.2772141 ,  0.55148065]], dtype=float32)]"
      ]
     },
     "execution_count": 8,
     "metadata": {},
     "output_type": "execute_result"
    }
   ],
   "source": [
    "model.layers[-1].get_weights()"
   ]
  },
  {
   "cell_type": "markdown",
   "metadata": {},
   "source": [
    "And compare after training"
   ]
  },
  {
   "cell_type": "code",
   "execution_count": 13,
   "metadata": {
    "ExecuteTime": {
     "end_time": "2020-10-16T12:38:25.528487Z",
     "start_time": "2020-10-16T12:38:25.520160Z"
    }
   },
   "outputs": [
    {
     "data": {
      "text/plain": [
       "[array([[-1.3191272 ,  0.26595005,  2.3397858 ]], dtype=float32)]"
      ]
     },
     "execution_count": 13,
     "metadata": {},
     "output_type": "execute_result"
    }
   ],
   "source": [
    "model.layers[-1].get_weights()"
   ]
  },
  {
   "cell_type": "markdown",
   "metadata": {},
   "source": [
    "If you wish to inspect the graph from Tensor Board, run this to clear previous models from the graph."
   ]
  },
  {
   "cell_type": "code",
   "execution_count": 66,
   "metadata": {
    "ExecuteTime": {
     "end_time": "2020-10-16T12:46:57.555465Z",
     "start_time": "2020-10-16T12:46:57.552019Z"
    }
   },
   "outputs": [],
   "source": [
    "from tensorflow.python.framework import ops\n",
    "ops.reset_default_graph()"
   ]
  },
  {
   "cell_type": "markdown",
   "metadata": {},
   "source": [
    "Just a moment"
   ]
  },
  {
   "cell_type": "code",
   "execution_count": 10,
   "metadata": {
    "ExecuteTime": {
     "end_time": "2020-10-17T09:19:30.140393Z",
     "start_time": "2020-10-17T09:19:30.132229Z"
    }
   },
   "outputs": [
    {
     "name": "stdout",
     "output_type": "stream",
     "text": [
      "Model: \"sequential\"\n",
      "_________________________________________________________________\n",
      "Layer (type)                 Output Shape              Param #   \n",
      "=================================================================\n",
      "dense (Dense)                (None, 32)                672       \n",
      "_________________________________________________________________\n",
      "dense_1 (Dense)              (None, 32)                1056      \n",
      "_________________________________________________________________\n",
      "dense_2 (Dense)              (None, 1)                 33        \n",
      "_________________________________________________________________\n",
      "ordinal_output (OrdinalOutpu (None, 4)                 3         \n",
      "=================================================================\n",
      "Total params: 1,764\n",
      "Trainable params: 1,764\n",
      "Non-trainable params: 0\n",
      "_________________________________________________________________\n"
     ]
    }
   ],
   "source": [
    "model.compile(\n",
    "    loss='categorical_crossentropy',\n",
    "    optimizer='adam',\n",
    "    metrics=['accuracy'])\n",
    "model.summary()"
   ]
  },
  {
   "cell_type": "markdown",
   "metadata": {},
   "source": [
    "Training."
   ]
  },
  {
   "cell_type": "code",
   "execution_count": 12,
   "metadata": {
    "ExecuteTime": {
     "end_time": "2020-10-17T09:20:12.479940Z",
     "start_time": "2020-10-17T09:19:36.437152Z"
    },
    "scrolled": true
   },
   "outputs": [
    {
     "name": "stdout",
     "output_type": "stream",
     "text": [
      "Train on 7500 samples, validate on 2500 samples\n",
      "WARNING:tensorflow:Model failed to serialize as JSON. Ignoring... Layers with arguments in `__init__` must override `get_config`.\n",
      "Epoch 1/10\n",
      "7500/7500 [==============================] - 2s 209us/sample - loss: 1.3909 - accuracy: 0.4631 - val_loss: 1.1412 - val_accuracy: 0.4992\n",
      "Epoch 2/10\n",
      "7500/7500 [==============================] - 1s 84us/sample - loss: 1.0525 - accuracy: 0.4999 - val_loss: 0.9820 - val_accuracy: 0.4992\n",
      "Epoch 3/10\n",
      "7500/7500 [==============================] - 1s 84us/sample - loss: 0.9259 - accuracy: 0.5003 - val_loss: 0.8806 - val_accuracy: 0.5060\n",
      "Epoch 4/10\n",
      "7500/7500 [==============================] - 1s 87us/sample - loss: 0.8357 - accuracy: 0.5355 - val_loss: 0.8024 - val_accuracy: 0.5572\n",
      "Epoch 5/10\n",
      "7500/7500 [==============================] - 1s 86us/sample - loss: 0.7630 - accuracy: 0.5859 - val_loss: 0.7338 - val_accuracy: 0.6072\n",
      "Epoch 6/10\n",
      "7500/7500 [==============================] - 1s 83us/sample - loss: 0.7016 - accuracy: 0.6261 - val_loss: 0.6787 - val_accuracy: 0.6356\n",
      "Epoch 7/10\n",
      "7500/7500 [==============================] - 1s 83us/sample - loss: 0.6485 - accuracy: 0.6557 - val_loss: 0.6294 - val_accuracy: 0.6616\n",
      "Epoch 8/10\n",
      "7500/7500 [==============================] - 1s 84us/sample - loss: 0.6020 - accuracy: 0.6889 - val_loss: 0.5874 - val_accuracy: 0.7308\n",
      "Epoch 9/10\n",
      "7500/7500 [==============================] - 1s 85us/sample - loss: 0.5626 - accuracy: 0.7627 - val_loss: 0.5512 - val_accuracy: 0.7664\n",
      "Epoch 10/10\n",
      "7500/7500 [==============================] - 1s 82us/sample - loss: 0.5269 - accuracy: 0.8091 - val_loss: 0.5208 - val_accuracy: 0.8144\n"
     ]
    }
   ],
   "source": [
    "history = model.fit(\n",
    "    x_train, y_train[:,:4],\n",
    "    epochs=10,\n",
    "    batch_size=32,\n",
    "    validation_data=(x_val, y_val[:,:4])\n",
    "#     callbacks=[keras.callbacks.TensorBoard(log_dir=r'..\\\\e-tblogs')]\n",
    ")"
   ]
  },
  {
   "cell_type": "markdown",
   "metadata": {
    "ExecuteTime": {
     "end_time": "2020-10-16T07:41:41.162151Z",
     "start_time": "2020-10-16T07:41:41.156239Z"
    }
   },
   "source": [
    "This cell was left from previous testing code. Do **not** run it since `t` or `y` now either exists not or has changed meaning. It was kept because the figure is some how useful."
   ]
  },
  {
   "cell_type": "code",
   "execution_count": 37,
   "metadata": {
    "ExecuteTime": {
     "end_time": "2020-10-16T07:41:41.873328Z",
     "start_time": "2020-10-16T07:41:41.758021Z"
    }
   },
   "outputs": [
    {
     "data": {
      "text/plain": [
       "[<matplotlib.lines.Line2D at 0x7f7deb34aaf0>]"
      ]
     },
     "execution_count": 37,
     "metadata": {},
     "output_type": "execute_result"
    },
    {
     "data": {
      "image/png": "[encoded data removed]",
      "text/plain": [
       "<Figure size 432x288 with 1 Axes>"
      ]
     },
     "metadata": {
      "needs_background": "light"
     },
     "output_type": "display_data"
    }
   ],
   "source": [
    "ind = np.argsort(y)\n",
    "plt.plot(y[ind], t[ind])"
   ]
  }
 ],
 "metadata": {
  "kernelspec": {
   "display_name": "Python 3",
   "language": "python",
   "name": "python3"
  },
  "language_info": {
   "codemirror_mode": {
    "name": "ipython",
    "version": 3
   },
   "file_extension": ".py",
   "mimetype": "text/x-python",
   "name": "python",
   "nbconvert_exporter": "python",
   "pygments_lexer": "ipython3",
   "version": "3.7.9"
  },
  "toc": {
   "base_numbering": 1,
   "nav_menu": {},
   "number_sections": true,
   "sideBar": true,
   "skip_h1_title": false,
   "title_cell": "Table of Contents",
   "title_sidebar": "Contents",
   "toc_cell": false,
   "toc_position": {},
   "toc_section_display": true,
   "toc_window_display": false
  },
  "varInspector": {
   "cols": {
    "lenName": 16,
    "lenType": 16,
    "lenVar": 40
   },
   "kernels_config": {
    "python": {
     "delete_cmd_postfix": "",
     "delete_cmd_prefix": "del ",
     "library": "var_list.py",
     "varRefreshCmd": "print(var_dic_list())"
    },
    "r": {
     "delete_cmd_postfix": ") ",
     "delete_cmd_prefix": "rm(",
     "library": "var_list.r",
     "varRefreshCmd": "cat(var_dic_list()) "
    }
   },
   "types_to_exclude": [
    "module",
    "function",
    "builtin_function_or_method",
    "instance",
    "_Feature"
   ],
   "window_display": false
  }
 },
 "nbformat": 4,
 "nbformat_minor": 4
}
